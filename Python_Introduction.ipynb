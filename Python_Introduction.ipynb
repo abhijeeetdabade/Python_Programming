{
  "nbformat": 4,
  "nbformat_minor": 0,
  "metadata": {
    "kernelspec": {
      "display_name": "Python 3",
      "language": "python",
      "name": "python3"
    },
    "language_info": {
      "codemirror_mode": {
        "name": "ipython",
        "version": 3
      },
      "file_extension": ".py",
      "mimetype": "text/x-python",
      "name": "python",
      "nbconvert_exporter": "python",
      "pygments_lexer": "ipython3",
      "version": "3.8.3"
    },
    "colab": {
      "name": "Python_Introduction.ipynb",
      "provenance": []
    }
  },
  "cells": [
    {
      "cell_type": "markdown",
      "source": [
        "# 1. What is Python ?"
      ],
      "metadata": {
        "id": "v7C67SwZjAZg"
      }
    },
    {
      "cell_type": "markdown",
      "source": [
        "`Python is a high-level, interpreted, general-purpose programming language. Being a general-purpose language, it can be used to build almost any type of application with the right tools/libraries. Additionally, python supports objects, modules, threads, exception-handling, and automatic memory management which help in modelling real-world problems and building applications to solve these problems.`"
      ],
      "metadata": {
        "id": "Qae9RHcljcDp"
      }
    },
    {
      "cell_type": "markdown",
      "metadata": {
        "id": "VUfnbYnv9-SB"
      },
      "source": [
        "**Benefits of using Python:**\n",
        "\n",
        "    1. Python is general purpose High Level Programming language or Scripting language\n",
        "    3. Python is interpreted programming language\n",
        "    3. Object oriented Programming language\n",
        "    4. Easy to Understand\n",
        "    5. Open Source\n",
        "    6. Portability\n",
        "    7. Huge Libraries"
      ]
    },
    {
      "cell_type": "markdown",
      "metadata": {
        "id": "Tm5vMDh29-SN"
      },
      "source": [
        "# Examples:\n",
        "    1. Google:\n",
        "        Better search result are provided based on ranking of the websites and much more\n",
        "    2. DropBox:\n",
        "        Server and Client application \n",
        "    3. Netflix:\n",
        "        Machine Learning is used to cluster users based on the interest on shows or Series\n",
        "    4. NCS:\n",
        "        Cyber security analysis and Encryption and Decryption\n",
        "    5. Bittorent:\n",
        "        Transfer file \n",
        "    6. NASA:\n",
        "        Scientific Calculation\n",
        "    7. ISRO:\n",
        "        Scientific Calculation"
      ]
    },
    {
      "cell_type": "markdown",
      "metadata": {
        "id": "Z-EkLWd09-SO"
      },
      "source": [
        "# Python Programming Used For:\n",
        "\n",
        "    1. Web Developement (Server Side)\n",
        "    2. Software Developement\n",
        "    3. mathematics\n",
        "    4. System Scripting\n",
        "    5. Database Connect\n",
        "    6. handle Big Data and Perform complex operations\n",
        "    7. rapid Prototyping, production"
      ]
    },
    {
      "cell_type": "markdown",
      "metadata": {
        "id": "im5-VznW9-SQ"
      },
      "source": [
        "# Why Used:\n",
        "    1. Different Platforms [Windows, Linux, Mac, Raspberry etc]\n",
        "    2. simple syntax use high level language like english.\n",
        "    3. code develop with fewer line\n",
        "    4. proceduaral, object oriented programming"
      ]
    },
    {
      "cell_type": "code",
      "metadata": {
        "id": "bo6N0M9W9-SR",
        "colab": {
          "base_uri": "https://localhost:8080/"
        },
        "outputId": "31bac307-40f8-4288-f258-13233ab69627"
      },
      "source": [
        "# First Python program      '#' is used for represent the comments\n",
        "print(\"Welcome to Python Programming\") # This is  also comment "
      ],
      "execution_count": 62,
      "outputs": [
        {
          "output_type": "stream",
          "name": "stdout",
          "text": [
            "Welcome to Python Programming\n"
          ]
        }
      ]
    },
    {
      "cell_type": "code",
      "metadata": {
        "id": "mtygwiBd9-SU",
        "colab": {
          "base_uri": "https://localhost:8080/"
        },
        "outputId": "e6fefc2c-222f-4487-b96b-9bdc4394bc61"
      },
      "source": [
        "\"\"\" This is multiline comments \n",
        "using the triple qoute \"\"\"\n",
        "print(\"Welcome to Python Programming\") "
      ],
      "execution_count": 63,
      "outputs": [
        {
          "output_type": "stream",
          "name": "stdout",
          "text": [
            "Welcome to Python Programming\n"
          ]
        }
      ]
    },
    {
      "cell_type": "code",
      "metadata": {
        "id": "2Rw-rN-l9-SW",
        "outputId": "cbe26a24-25d9-4cad-fa49-6d67c1b9f5af",
        "colab": {
          "base_uri": "https://localhost:8080/"
        }
      },
      "source": [
        "# This is comment\n",
        "# This is comment\n",
        "print(\"Welcome to Python\") "
      ],
      "execution_count": 43,
      "outputs": [
        {
          "output_type": "stream",
          "name": "stdout",
          "text": [
            "Welcome to Python\n"
          ]
        }
      ]
    },
    {
      "cell_type": "markdown",
      "metadata": {
        "id": "lI-Yi69D9-SX"
      },
      "source": [
        "### 1. Variable:\n",
        "    1. Variable contains something\n",
        "    2. A Variable can have short name or Descriptive Name [age, height, carname, etc.]\n",
        "    Exmple:\n",
        "    x = 'Abhijeet' [string]\n",
        "    y = 10 [integer]\n",
        "    z = 84.20 [float]\n",
        "    \n",
        "Rules For Python Variable:\n",
        "    1. Always start with later or underscore character\n",
        "    2. Variable contain alpha numeric character and underscore (A-Za-z, 0-9, _)\n",
        "    3. Variable name always case sensitive (age, AGE, Age, etc.)\n",
        "    "
      ]
    },
    {
      "cell_type": "code",
      "metadata": {
        "id": "aXnlk5XB9-SZ"
      },
      "source": [
        "x = 10\n",
        "y = 20\n",
        "\n",
        "z = x + y"
      ],
      "execution_count": 44,
      "outputs": []
    },
    {
      "cell_type": "code",
      "metadata": {
        "id": "0AkVtDxs9-Sa",
        "outputId": "298736da-c118-4b47-ff38-c621a02d413e",
        "colab": {
          "base_uri": "https://localhost:8080/"
        }
      },
      "source": [
        "print(z)"
      ],
      "execution_count": 45,
      "outputs": [
        {
          "output_type": "stream",
          "name": "stdout",
          "text": [
            "30\n"
          ]
        }
      ]
    },
    {
      "cell_type": "code",
      "metadata": {
        "id": "pl8KCWLl9-Sb"
      },
      "source": [
        "x = \"Welcome to Python\""
      ],
      "execution_count": 46,
      "outputs": []
    },
    {
      "cell_type": "code",
      "metadata": {
        "id": "Id1wxEHB9-Sc",
        "outputId": "9b7e113c-b406-4e07-8966-8d1d8ec4475d",
        "colab": {
          "base_uri": "https://localhost:8080/"
        }
      },
      "source": [
        "print(x)"
      ],
      "execution_count": 47,
      "outputs": [
        {
          "output_type": "stream",
          "name": "stdout",
          "text": [
            "Welcome to Python\n"
          ]
        }
      ]
    },
    {
      "cell_type": "code",
      "metadata": {
        "id": "tjperrLN9-Sc",
        "outputId": "b8ff957a-49d3-493b-dc0a-122d70bafc1a",
        "colab": {
          "base_uri": "https://localhost:8080/"
        }
      },
      "source": [
        "x = 10.12 \n",
        "y = 45.45\n",
        "\n",
        "z = x + y\n",
        "print(z)"
      ],
      "execution_count": 48,
      "outputs": [
        {
          "output_type": "stream",
          "name": "stdout",
          "text": [
            "55.57\n"
          ]
        }
      ]
    },
    {
      "cell_type": "code",
      "metadata": {
        "id": "IUTs9azr9-Sd",
        "outputId": "4456eaf4-f1e7-4c9a-e46b-0c24d2c08f98",
        "colab": {
          "base_uri": "https://localhost:8080/"
        }
      },
      "source": [
        "_x = 10\n",
        "_y = 20\n",
        "\n",
        "_z = _x + _y\n",
        "\n",
        "print(_z)"
      ],
      "execution_count": 49,
      "outputs": [
        {
          "output_type": "stream",
          "name": "stdout",
          "text": [
            "30\n"
          ]
        }
      ]
    },
    {
      "cell_type": "code",
      "metadata": {
        "id": "fkRSCkP39-Se",
        "outputId": "1a0894bc-3d15-44ce-db22-ebf827ecc6fc",
        "colab": {
          "base_uri": "https://localhost:8080/"
        }
      },
      "source": [
        "x1 = 20\n",
        "y2 = 30\n",
        "\n",
        "z3 = x1 + y2\n",
        "print(z3)"
      ],
      "execution_count": 50,
      "outputs": [
        {
          "output_type": "stream",
          "name": "stdout",
          "text": [
            "50\n"
          ]
        }
      ]
    },
    {
      "cell_type": "code",
      "metadata": {
        "id": "odK-UNE39-Sf",
        "outputId": "4918761a-7463-4312-a80a-d43e45630154",
        "colab": {
          "base_uri": "https://localhost:8080/"
        }
      },
      "source": [
        "x1_x = 20\n",
        "y2_y = 30\n",
        "\n",
        "z3_z = x1_x + y2_y\n",
        "print(z3_z)"
      ],
      "execution_count": 51,
      "outputs": [
        {
          "output_type": "stream",
          "name": "stdout",
          "text": [
            "50\n"
          ]
        }
      ]
    },
    {
      "cell_type": "code",
      "metadata": {
        "id": "2zz_3rv29-Sg",
        "outputId": "df7439b8-a6e9-4345-98ae-c13c09d482c9",
        "colab": {
          "base_uri": "https://localhost:8080/"
        }
      },
      "source": [
        "x1_x = 20\n",
        "y2_y = 30\n",
        "\n",
        "z3_z = x1_x + y2_y\n",
        "print(\"Addition of Two No is: \",z3_z)"
      ],
      "execution_count": 52,
      "outputs": [
        {
          "output_type": "stream",
          "name": "stdout",
          "text": [
            "Addition of Two No is:  50\n"
          ]
        }
      ]
    },
    {
      "cell_type": "code",
      "metadata": {
        "id": "4j2nJBCT9-Sh",
        "outputId": "1e1bd640-1043-453a-9a27-f71c27360059",
        "colab": {
          "base_uri": "https://localhost:8080/"
        }
      },
      "source": [
        "x = 20\n",
        "print(type(x))"
      ],
      "execution_count": 53,
      "outputs": [
        {
          "output_type": "stream",
          "name": "stdout",
          "text": [
            "<class 'int'>\n"
          ]
        }
      ]
    },
    {
      "cell_type": "code",
      "metadata": {
        "id": "4_hB0Ev69-Sh",
        "outputId": "9559329c-d784-409d-f7f1-d9acac1904aa",
        "colab": {
          "base_uri": "https://localhost:8080/"
        }
      },
      "source": [
        "x = 45.26\n",
        "print(type(x))"
      ],
      "execution_count": 54,
      "outputs": [
        {
          "output_type": "stream",
          "name": "stdout",
          "text": [
            "<class 'float'>\n"
          ]
        }
      ]
    },
    {
      "cell_type": "code",
      "metadata": {
        "id": "ubkHX_gd9-Si",
        "outputId": "dda245c4-42a9-4034-beb1-096acef6ddf8",
        "colab": {
          "base_uri": "https://localhost:8080/"
        }
      },
      "source": [
        "x = \"Shyam Ambilkar\"\n",
        "print(type(x))"
      ],
      "execution_count": 55,
      "outputs": [
        {
          "output_type": "stream",
          "name": "stdout",
          "text": [
            "<class 'str'>\n"
          ]
        }
      ]
    },
    {
      "cell_type": "code",
      "metadata": {
        "id": "98X3vWfm9-Sj",
        "outputId": "619b708b-dcce-4099-cfe5-87c49c38f871",
        "colab": {
          "base_uri": "https://localhost:8080/"
        }
      },
      "source": [
        "x = True\n",
        "print(type(x))"
      ],
      "execution_count": 56,
      "outputs": [
        {
          "output_type": "stream",
          "name": "stdout",
          "text": [
            "<class 'bool'>\n"
          ]
        }
      ]
    },
    {
      "cell_type": "markdown",
      "metadata": {
        "id": "qln4UhFt9-Sk"
      },
      "source": [
        "### There are two Types of Variable:\n",
        "    1. Local Variable\n",
        "    2. Global Variable"
      ]
    },
    {
      "cell_type": "markdown",
      "metadata": {
        "id": "-C5lylRV9-Sl"
      },
      "source": [
        "#### 1.Global Variable:"
      ]
    },
    {
      "cell_type": "code",
      "metadata": {
        "id": "2OFJYUe-9-Sm",
        "outputId": "64f769ed-dae3-4053-af1c-e3890e55cd94",
        "colab": {
          "base_uri": "https://localhost:8080/"
        }
      },
      "source": [
        "x = \"Awesome\" # Global Variable\n",
        "\n",
        "def myfunct():\n",
        "    print(\"Python is \" + x)\n",
        "myfunct()"
      ],
      "execution_count": 57,
      "outputs": [
        {
          "output_type": "stream",
          "name": "stdout",
          "text": [
            "Python is Awesome\n"
          ]
        }
      ]
    },
    {
      "cell_type": "markdown",
      "metadata": {
        "id": "JsprMHXT9-Sn"
      },
      "source": [
        "#### 2. Local Variable:"
      ]
    },
    {
      "cell_type": "code",
      "metadata": {
        "id": "hi8KRHCO9-Sn",
        "outputId": "b526f3ac-e822-4443-d81c-e29fe6273937",
        "colab": {
          "base_uri": "https://localhost:8080/"
        }
      },
      "source": [
        "x = \"Awesome\" # Global Variable\n",
        "\n",
        "def myfunc():\n",
        "    x = \"Fantastic\" #Local Variable\n",
        "    print(\"Python is \" + x)\n",
        "myfunc()\n",
        "print(\"Python is \" + x)"
      ],
      "execution_count": 58,
      "outputs": [
        {
          "output_type": "stream",
          "name": "stdout",
          "text": [
            "Python is Fantastic\n",
            "Python is Awesome\n"
          ]
        }
      ]
    },
    {
      "cell_type": "code",
      "metadata": {
        "id": "a_MZIYXg9-So"
      },
      "source": [
        "# age, AGE, Age\n",
        "\n",
        "age = 45\n",
        "AGE = 80\n",
        "Age = 60"
      ],
      "execution_count": 59,
      "outputs": []
    },
    {
      "cell_type": "code",
      "metadata": {
        "id": "u5K0A5NY9-Sp",
        "outputId": "9a5c7e57-c987-4328-99e2-1291eb060e95",
        "colab": {
          "base_uri": "https://localhost:8080/"
        }
      },
      "source": [
        "print(age)\n",
        "print(Age)\n",
        "print(AGE)"
      ],
      "execution_count": 60,
      "outputs": [
        {
          "output_type": "stream",
          "name": "stdout",
          "text": [
            "45\n",
            "60\n",
            "80\n"
          ]
        }
      ]
    },
    {
      "cell_type": "code",
      "metadata": {
        "id": "rDMGJMfo9-Sr"
      },
      "source": [
        ""
      ],
      "execution_count": 60,
      "outputs": []
    }
  ]
}